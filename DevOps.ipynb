{
 "cells": [
  {
   "cell_type": "markdown",
   "metadata": {},
   "source": [
    "## Download model from Azure Machine Learning Model Repository"
   ]
  },
  {
   "cell_type": "code",
   "execution_count": 4,
   "metadata": {},
   "outputs": [
    {
     "name": "stdout",
     "output_type": "stream",
     "text": [
      "Overwriting downloadmodel.py\n"
     ]
    }
   ],
   "source": [
    "%%writefile downloadmodel.py\n",
    "from azureml.core import Workspace\n",
    "from azureml.core.model import Model\n",
    "import os \n",
    "\n",
    "from azureml.core.runconfig import RunConfiguration\n",
    "from azureml.core.authentication import AzureCliAuthentication\n",
    "cli_auth = AzureCliAuthentication()\n",
    "\n",
    "# Get workspace\n",
    "ws = Workspace.from_config(auth=cli_auth)\n",
    "\n",
    "model=Model(ws, 'MyModel')\n",
    "\n",
    "model.download(target_dir=\".\", exist_ok=True)"
   ]
  },
  {
   "cell_type": "markdown",
   "metadata": {},
   "source": [
    "## Rest API"
   ]
  },
  {
   "cell_type": "code",
   "execution_count": 78,
   "metadata": {},
   "outputs": [
    {
     "name": "stdout",
     "output_type": "stream",
     "text": [
      "Overwriting app.py\n"
     ]
    }
   ],
   "source": [
    "%%writefile app.py\n",
    "#!/usr/bin/env python\n",
    "from flask import Flask, jsonify, request\n",
    "from flask_restful import Resource, Api\n",
    "import keras\n",
    "import tensorflow as tf\n",
    "from keras.models import model_from_json\n",
    "import cv2\n",
    "import json\n",
    "import numpy as np\n",
    "import os\n",
    "import base64\n",
    "import urllib\n",
    "\n",
    "loaded = False\n",
    "app = Flask(__name__)\n",
    "api = Api(app)\n",
    "\n",
    "class CatOrDogApi(Resource):\n",
    "   \n",
    "    def __init__(self):\n",
    "        global loaded\n",
    "        global loaded_model\n",
    "        print(\"run init\")\n",
    "        if loaded == False:\n",
    "            print(\"--> Start - Loading Model\")\n",
    "            model_root = 'model'\n",
    "            model_file_json = os.path.join(model_root, 'model.json')\n",
    "            model_file_h5 = os.path.join(model_root, 'model.h5')\n",
    "\n",
    "            json_file = open(model_file_json, 'r') \n",
    "            loaded_model_json = json_file.read()\n",
    "            json_file.close()\n",
    "\n",
    "            loaded_model = model_from_json(loaded_model_json)\n",
    "            loaded_model.load_weights(model_file_h5)  \n",
    "            loaded = True\n",
    "            print(\"--> End - Loading Model\")     \n",
    "    \n",
    "    def get(self):\n",
    "        global loaded_model\n",
    "        try:\n",
    "            url = request.get_json()['url']\n",
    "            urllib.request.urlretrieve(url, filename=\"tmp.jpg\")\n",
    "\n",
    "            image_data = cv2.imread(\"tmp.jpg\", cv2.IMREAD_GRAYSCALE)\n",
    "            image_data = cv2.resize(image_data,(96,96))\n",
    "            image_data = image_data/255\n",
    "\n",
    "            data1=[]\n",
    "            data1.append(image_data)\n",
    "            data1 = np.array(data1)\n",
    "            data1 = data1.reshape((data1.shape)[0],(data1.shape)[1],(data1.shape)[2],1)    \n",
    "\n",
    "            predicted_labels = loaded_model.predict(data1)\n",
    "\n",
    "            labels=['dog' if value>0.5 else 'cat' for value in predicted_labels]\n",
    "\n",
    "            os.remove(\"tmp.jpg\")\n",
    "\n",
    "            return json.dumps(labels)\n",
    "        except AssertionError as error:\n",
    "            print(error)  \n",
    "\n",
    "api.add_resource(CatOrDogApi, '/')\n",
    "\n",
    "if __name__ == '__main__':\n",
    "    app.run(debug=True, port=5000, host='0.0.0.0')"
   ]
  },
  {
   "cell_type": "markdown",
   "metadata": {},
   "source": [
    "## DockerFile"
   ]
  },
  {
   "cell_type": "code",
   "execution_count": 84,
   "metadata": {},
   "outputs": [
    {
     "name": "stdout",
     "output_type": "stream",
     "text": [
      "Overwriting requirements.txt\n"
     ]
    }
   ],
   "source": [
    "%%writefile requirements.txt\n",
    "flask\n",
    "flask_restful\n",
    "opencv-python\n",
    "Pillow\n",
    "azure-storage-blob\n",
    "matplotlib\n",
    "numpy\n",
    "tensorflow==1.10.0\n",
    "keras==2.1.6"
   ]
  },
  {
   "cell_type": "code",
   "execution_count": 83,
   "metadata": {},
   "outputs": [
    {
     "name": "stdout",
     "output_type": "stream",
     "text": [
      "Overwriting dockerfile\n"
     ]
    }
   ],
   "source": [
    "%%writefile dockerfile\n",
    "FROM python:3.6\n",
    "COPY . /app\n",
    "WORKDIR /app\n",
    "RUN pip install -r requirements.txt\n",
    "RUN chmod 644 app.py\n",
    "ENTRYPOINT [\"python\"]\n",
    "CMD [\"app.py\"]"
   ]
  },
  {
   "cell_type": "markdown",
   "metadata": {},
   "source": [
    "## Build & Test docker local"
   ]
  },
  {
   "cell_type": "code",
   "execution_count": null,
   "metadata": {},
   "outputs": [],
   "source": [
    "docker build -t catsordogsapi:latest .\n",
    "docker run -d -p 5000:5000 catsordogsapi:latest"
   ]
  }
 ],
 "metadata": {
  "kernelspec": {
   "display_name": "Python 3",
   "language": "python",
   "name": "python3"
  },
  "language_info": {
   "codemirror_mode": {
    "name": "ipython",
    "version": 3
   },
   "file_extension": ".py",
   "mimetype": "text/x-python",
   "name": "python",
   "nbconvert_exporter": "python",
   "pygments_lexer": "ipython3",
   "version": "3.6.8"
  }
 },
 "nbformat": 4,
 "nbformat_minor": 2
}
